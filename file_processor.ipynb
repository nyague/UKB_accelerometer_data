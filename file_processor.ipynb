{
 "cells": [
  {
   "cell_type": "code",
   "execution_count": 7,
   "id": "1e5a71bf-20f5-490b-aec5-10040217c8dd",
   "metadata": {
    "tags": []
   },
   "outputs": [
    {
     "name": "stdout",
     "output_type": "stream",
     "text": [
      "/opt/conda/envs/accel_env/bin/python\n",
      "3.9.21 (main, Dec 11 2024, 16:24:11) \n",
      "[GCC 11.2.0]\n"
     ]
    }
   ],
   "source": [
    "import sys\n",
    "print(sys.executable)\n",
    "print(sys.version)"
   ]
  },
  {
   "cell_type": "code",
   "execution_count": 8,
   "id": "a3d2192d-bb59-4a2c-9ca7-a22551968185",
   "metadata": {
    "tags": []
   },
   "outputs": [],
   "source": [
    "#!python --version"
   ]
  },
  {
   "cell_type": "code",
   "execution_count": 22,
   "id": "bd309f0e-8fb7-49fb-9459-7e0ddae07ffe",
   "metadata": {
    "tags": []
   },
   "outputs": [],
   "source": [
    "import jdk\n",
    "from jdk.enums import OperatingSystem, Architecture"
   ]
  },
  {
   "cell_type": "code",
   "execution_count": 23,
   "id": "1bc33184-e6ee-42e4-802d-185af9143b64",
   "metadata": {
    "tags": []
   },
   "outputs": [
    {
     "data": {
      "text/plain": [
       "'/home/dnanexus/.jre/jdk-11.0.26+4-jre'"
      ]
     },
     "execution_count": 23,
     "metadata": {},
     "output_type": "execute_result"
    }
   ],
   "source": [
    "# Download and install the JDK\n",
    "jdk.install('11', jre=True, operating_system=OperatingSystem.LINUX)"
   ]
  },
  {
   "cell_type": "code",
   "execution_count": 24,
   "id": "4761c583-882d-49cd-ac79-b86f04a45bbc",
   "metadata": {
    "tags": []
   },
   "outputs": [],
   "source": [
    "import os\n",
    "# Set JAVA_HOME and PATH for this Python session\n",
    "jdk_version = 'jdk-11.0.26+4-jre'\n",
    "os.environ['JAVA_HOME'] = f\"/home/dnanexus/.jre/jdk-11.0.26+4-jre\"\n",
    "os.environ['PATH'] += f\":{os.environ['JAVA_HOME']}/bin\""
   ]
  },
  {
   "cell_type": "code",
   "execution_count": 25,
   "id": "a749ffdf-76c9-47e7-8b4e-fd80626defdf",
   "metadata": {
    "tags": []
   },
   "outputs": [
    {
     "name": "stdout",
     "output_type": "stream",
     "text": [
      "JAVA_HOME: /home/dnanexus/.jre/jdk-11.0.26+4-jre\n",
      "OS: linux\n",
      "ARCH: x64\n"
     ]
    }
   ],
   "source": [
    "# Confirm\n",
    "print(\"JAVA_HOME:\", os.environ['JAVA_HOME'])\n",
    "print(\"OS:\", jdk.OS)\n",
    "print(\"ARCH:\", jdk.ARCH)"
   ]
  },
  {
   "cell_type": "code",
   "execution_count": 26,
   "id": "36912a68-37ce-46e4-959c-40dfd5cc5929",
   "metadata": {
    "tags": []
   },
   "outputs": [
    {
     "name": "stdout",
     "output_type": "stream",
     "text": [
      "Download URL: https://api.adoptium.net/v3/binary/latest/11/ga/linux/x64/jre/hotspot/normal/eclipse\n"
     ]
    }
   ],
   "source": [
    "# Optional: print download URL\n",
    "download_url = jdk.get_download_url('11', jre=True)\n",
    "print(\"Download URL:\", download_url)"
   ]
  },
  {
   "cell_type": "code",
   "execution_count": 27,
   "id": "f6f1597d-eec4-453c-8ee2-4d7ad23e0735",
   "metadata": {
    "tags": []
   },
   "outputs": [
    {
     "name": "stdout",
     "output_type": "stream",
     "text": [
      "jaotc  jfr  jrunscript\tpack200  rmiregistry\n",
      "java   jjs  keytool\trmid\t unpack200\n",
      "openjdk 11.0.26 2025-01-21\n",
      "OpenJDK Runtime Environment Temurin-11.0.26+4 (build 11.0.26+4)\n",
      "OpenJDK 64-Bit Server VM Temurin-11.0.26+4 (build 11.0.26+4, mixed mode)\n"
     ]
    }
   ],
   "source": [
    "!ls {os.environ['JAVA_HOME']}/bin\n",
    "!{os.environ['JAVA_HOME']}/bin/java --version"
   ]
  },
  {
   "cell_type": "code",
   "execution_count": 30,
   "id": "52397509-7533-459c-a72b-a9afd64af6b0",
   "metadata": {
    "tags": []
   },
   "outputs": [
    {
     "name": "stdout",
     "output_type": "stream",
     "text": [
      "Requirement already satisfied: accelerometer in /opt/conda/envs/accel_env/lib/python3.9/site-packages (7.2.1.post0+6.g462c2b6)\n",
      "Requirement already satisfied: numpy==1.21.* in /opt/conda/envs/accel_env/lib/python3.9/site-packages (from accelerometer) (1.21.6)\n",
      "Requirement already satisfied: scipy==1.7.* in /opt/conda/envs/accel_env/lib/python3.9/site-packages (from accelerometer) (1.7.3)\n",
      "Requirement already satisfied: matplotlib==3.5.* in /opt/conda/envs/accel_env/lib/python3.9/site-packages (from accelerometer) (3.5.3)\n",
      "Requirement already satisfied: pandas==1.3.* in /opt/conda/envs/accel_env/lib/python3.9/site-packages (from accelerometer) (1.3.5)\n",
      "Requirement already satisfied: tqdm==4.65.* in /opt/conda/envs/accel_env/lib/python3.9/site-packages (from accelerometer) (4.65.2)\n",
      "Requirement already satisfied: statsmodels==0.13.* in /opt/conda/envs/accel_env/lib/python3.9/site-packages (from accelerometer) (0.13.5)\n",
      "Requirement already satisfied: joblib==1.1.* in /opt/conda/envs/accel_env/lib/python3.9/site-packages (from accelerometer) (1.1.1)\n",
      "Requirement already satisfied: imbalanced-learn==0.8.1 in /opt/conda/envs/accel_env/lib/python3.9/site-packages (from accelerometer) (0.8.1)\n",
      "Requirement already satisfied: scikit-learn==1.0.2 in /opt/conda/envs/accel_env/lib/python3.9/site-packages (from accelerometer) (1.0.2)\n",
      "Requirement already satisfied: cycler>=0.10 in /opt/conda/envs/accel_env/lib/python3.9/site-packages (from matplotlib==3.5.*->accelerometer) (0.11.0)\n",
      "Requirement already satisfied: fonttools>=4.22.0 in /opt/conda/envs/accel_env/lib/python3.9/site-packages (from matplotlib==3.5.*->accelerometer) (4.55.3)\n",
      "Requirement already satisfied: kiwisolver>=1.0.1 in /opt/conda/envs/accel_env/lib/python3.9/site-packages (from matplotlib==3.5.*->accelerometer) (1.4.4)\n",
      "Requirement already satisfied: packaging>=20.0 in /opt/conda/envs/accel_env/lib/python3.9/site-packages (from matplotlib==3.5.*->accelerometer) (24.2)\n",
      "Requirement already satisfied: pillow>=6.2.0 in /opt/conda/envs/accel_env/lib/python3.9/site-packages (from matplotlib==3.5.*->accelerometer) (11.1.0)\n",
      "Requirement already satisfied: pyparsing>=2.2.1 in /opt/conda/envs/accel_env/lib/python3.9/site-packages (from matplotlib==3.5.*->accelerometer) (3.0.9)\n",
      "Requirement already satisfied: python-dateutil>=2.7 in /opt/conda/envs/accel_env/lib/python3.9/site-packages (from matplotlib==3.5.*->accelerometer) (2.9.0.post0)\n",
      "Requirement already satisfied: pytz>=2017.3 in /opt/conda/envs/accel_env/lib/python3.9/site-packages (from pandas==1.3.*->accelerometer) (2024.1)\n",
      "Requirement already satisfied: threadpoolctl>=2.0.0 in /opt/conda/envs/accel_env/lib/python3.9/site-packages (from scikit-learn==1.0.2->accelerometer) (3.5.0)\n",
      "Requirement already satisfied: patsy>=0.5.2 in /opt/conda/envs/accel_env/lib/python3.9/site-packages (from statsmodels==0.13.*->accelerometer) (1.0.1)\n",
      "Requirement already satisfied: six>=1.5 in /opt/conda/envs/accel_env/lib/python3.9/site-packages (from python-dateutil>=2.7->matplotlib==3.5.*->accelerometer) (1.16.0)\n",
      "\u001b[33mWARNING: Running pip as the 'root' user can result in broken permissions and conflicting behaviour with the system package manager, possibly rendering your system unusable. It is recommended to use a virtual environment instead: https://pip.pypa.io/warnings/venv. Use the --root-user-action option if you know what you are doing and want to suppress this warning.\u001b[0m\u001b[33m\n",
      "\u001b[0m"
     ]
    }
   ],
   "source": [
    "import sys\n",
    "!{sys.executable} -m pip install accelerometer"
   ]
  },
  {
   "cell_type": "code",
   "execution_count": 32,
   "id": "810e6ae5-dcf1-4398-8ad6-0d8a60b22d8d",
   "metadata": {
    "tags": []
   },
   "outputs": [
    {
     "name": "stdout",
     "output_type": "stream",
     "text": [
      "Processing file 'data/sample.cwa.gz' with these arguments:\n",
      "\n",
      "activityClassification    : True\n",
      "activityModel             : walmsley\n",
      "calOffset                 : [0.0, 0.0, 0.0]\n",
      "calSlope                  : [1.0, 1.0, 1.0]\n",
      "calTemp                   : [0.0, 0.0, 0.0]\n",
      "calibrationSphereCriteria : 0.3\n",
      "csvSampleRate             : None\n",
      "csvStartRow               : 1\n",
      "csvStartTime              : None\n",
      "csvTimeFormat             : yyyy-MM-dd HH:mm:ss.SSSxxxx '['VV']'\n",
      "csvTimeXYZTempColsIndex   : 0,1,2,3,4\n",
      "deleteIntermediateFiles   : True\n",
      "endTime                   : None\n",
      "epochFile                 : /opt/notebooks/data/sample-epoch.csv.gz\n",
      "epochPeriod               : 30\n",
      "extractFeatures           : True\n",
      "fourierFrequency          : False\n",
      "fourierWithAcc            : False\n",
      "inputFile                 : data/sample.cwa.gz\n",
      "intensityDistribution     : False\n",
      "m10l5                     : False\n",
      "meanTemp                  : None\n",
      "mgCpLPA                   : 45\n",
      "mgCpMPA                   : 100\n",
      "mgCpVPA                   : 400\n",
      "minNonWearDuration        : 60\n",
      "npyFile                   : /opt/notebooks/data/sample.npy\n",
      "npyOutput                 : False\n",
      "outputFolder              : /opt/notebooks/data\n",
      "processInputFile          : True\n",
      "psd                       : False\n",
      "rawDataParser             : AccelerometerParser\n",
      "rawFile                   : /opt/notebooks/data/sample.csv.gz\n",
      "rawOutput                 : False\n",
      "resampleMethod            : linear\n",
      "sampleRate                : 100\n",
      "skipCalibration           : False\n",
      "startTime                 : None\n",
      "stationaryFile            : /opt/notebooks/data/sample-stationaryPoints.csv.gz\n",
      "stationaryStd             : 13\n",
      "summaryFile               : /opt/notebooks/data/sample-summary.json\n",
      "timeShift                 : 0\n",
      "timeZone                  : Europe/London\n",
      "tsFile                    : /opt/notebooks/data/sample-timeSeries.csv.gz\n",
      "useFilter                 : True\n",
      "verbose                   : False\n",
      "\n",
      "2025-03-29 09:20:32\t=== Calibrating ===\n",
      "Error: Could not find or load main class AccelerometerParser\n",
      "Caused by: java.lang.ClassNotFoundException: AccelerometerParser\n",
      "['java', '-classpath', '/opt/conda/envs/accel_env/lib/python3.9/site-packages/accelerometer/java/:/opt/conda/envs/accel_env/lib/python3.9/site-packages/accelerometer/java/JTransforms-3.1-with-dependencies.jar', '-XX:ParallelGCThreads=1', 'AccelerometerParser', 'data/sample.cwa.gz', 'timeZone:Europe/London', 'timeShift:0', 'outputFile:/opt/notebooks/data/sample-stationaryPoints.csv.gz', 'verbose:False', 'filter:True', 'getStationaryBouts:true', 'epochPeriod:10', 'stationaryStd:0.013', 'sampleRate:100', \"csvTimeFormat:yyyy-MM-dd HH:mm:ss.SSSxxxx '['VV']'\", 'csvStartRow:1', 'csvTimeXYZTempColsIndex:0,1,2,3,4']\n",
      "Error: java calibration failed, exit  1\n",
      "Traceback (most recent call last):\n",
      "  File \"/opt/conda/envs/accel_env/bin/accPlot\", line 8, in <module>\n",
      "    sys.exit(main())\n",
      "  File \"/opt/conda/envs/accel_env/lib/python3.9/site-packages/accelerometer/accPlot.py\", line 77, in main\n",
      "    data = pd.read_csv(\n",
      "  File \"/opt/conda/envs/accel_env/lib/python3.9/site-packages/pandas/util/_decorators.py\", line 311, in wrapper\n",
      "    return func(*args, **kwargs)\n",
      "  File \"/opt/conda/envs/accel_env/lib/python3.9/site-packages/pandas/io/parsers/readers.py\", line 586, in read_csv\n",
      "    return _read(filepath_or_buffer, kwds)\n",
      "  File \"/opt/conda/envs/accel_env/lib/python3.9/site-packages/pandas/io/parsers/readers.py\", line 482, in _read\n",
      "    parser = TextFileReader(filepath_or_buffer, **kwds)\n",
      "  File \"/opt/conda/envs/accel_env/lib/python3.9/site-packages/pandas/io/parsers/readers.py\", line 811, in __init__\n",
      "    self._engine = self._make_engine(self.engine)\n",
      "  File \"/opt/conda/envs/accel_env/lib/python3.9/site-packages/pandas/io/parsers/readers.py\", line 1040, in _make_engine\n",
      "    return mapping[engine](self.f, **self.options)  # type: ignore[call-arg]\n",
      "  File \"/opt/conda/envs/accel_env/lib/python3.9/site-packages/pandas/io/parsers/c_parser_wrapper.py\", line 51, in __init__\n",
      "    self._open_handles(src, kwds)\n",
      "  File \"/opt/conda/envs/accel_env/lib/python3.9/site-packages/pandas/io/parsers/base_parser.py\", line 222, in _open_handles\n",
      "    self.handles = get_handle(\n",
      "  File \"/opt/conda/envs/accel_env/lib/python3.9/site-packages/pandas/io/common.py\", line 642, in get_handle\n",
      "    handle = gzip.GzipFile(\n",
      "  File \"/opt/conda/envs/accel_env/lib/python3.9/gzip.py\", line 173, in __init__\n",
      "    fileobj = self.myfileobj = builtins.open(filename, mode or 'rb')\n",
      "FileNotFoundError: [Errno 2] No such file or directory: 'data/sample-timeSeries.csv.gz'\n"
     ]
    }
   ],
   "source": [
    "import sys\n",
    "import os\n",
    "\n",
    "# Build the path to the correct tool\n",
    "acc_bin = os.path.join(os.path.dirname(sys.executable), \"accProcess\")\n",
    "plot_bin = os.path.join(os.path.dirname(sys.executable), \"accPlot\")\n",
    "\n",
    "# Run them safely\n",
    "!{acc_bin} data/sample.cwa.gz\n",
    "!{plot_bin} data/sample-timeSeries.csv.gz\n"
   ]
  },
  {
   "cell_type": "code",
   "execution_count": 33,
   "id": "afe33edb-1f31-4012-8956-dc4a8ef1042b",
   "metadata": {
    "tags": []
   },
   "outputs": [
    {
     "name": "stdout",
     "output_type": "stream",
     "text": [
      "\u001b[2K[===========================================================>] Completed 264,362,496 of 264,362,496 bytes (100%) /opt/notebooks/1000064_90001_0_0.cwaa\n",
      "Error: path \"/opt/notebooks/1000064_90001_0_0.cwa\" already exists but\n",
      "-f/--overwrite was not set\n",
      "Processing file '10/1000064_90001_0_0.cwa' with these arguments:\n",
      "\n",
      "activityClassification    : True\n",
      "activityModel             : walmsley\n",
      "calOffset                 : [0.0, 0.0, 0.0]\n",
      "calSlope                  : [1.0, 1.0, 1.0]\n",
      "calTemp                   : [0.0, 0.0, 0.0]\n",
      "calibrationSphereCriteria : 0.3\n",
      "csvSampleRate             : None\n",
      "csvStartRow               : 1\n",
      "csvStartTime              : None\n",
      "csvTimeFormat             : yyyy-MM-dd HH:mm:ss.SSSxxxx '['VV']'\n",
      "csvTimeXYZTempColsIndex   : 0,1,2,3,4\n",
      "deleteIntermediateFiles   : True\n",
      "endTime                   : None\n",
      "epochFile                 : accOut/1000064_90001_0_0-epoch.csv.gz\n",
      "epochPeriod               : 30\n",
      "extractFeatures           : True\n",
      "fourierFrequency          : False\n",
      "fourierWithAcc            : False\n",
      "inputFile                 : 10/1000064_90001_0_0.cwa\n",
      "intensityDistribution     : False\n",
      "m10l5                     : False\n",
      "meanTemp                  : None\n",
      "mgCpLPA                   : 45\n",
      "mgCpMPA                   : 100\n",
      "mgCpVPA                   : 400\n",
      "minNonWearDuration        : 60\n",
      "npyFile                   : accOut/1000064_90001_0_0.npy\n",
      "npyOutput                 : False\n",
      "outputFolder              : accOut\n",
      "processInputFile          : True\n",
      "psd                       : False\n",
      "rawDataParser             : AccelerometerParser\n",
      "rawFile                   : accOut/1000064_90001_0_0.csv.gz\n",
      "rawOutput                 : False\n",
      "resampleMethod            : linear\n",
      "sampleRate                : 100\n",
      "skipCalibration           : False\n",
      "startTime                 : None\n",
      "stationaryFile            : accOut/1000064_90001_0_0-stationaryPoints.csv.gz\n",
      "stationaryStd             : 13\n",
      "summaryFile               : accOut/1000064_90001_0_0-summary.json\n",
      "timeShift                 : 0\n",
      "timeZone                  : Europe/London\n",
      "tsFile                    : accOut/1000064_90001_0_0-timeSeries.csv.gz\n",
      "useFilter                 : True\n",
      "verbose                   : False\n",
      "Traceback (most recent call last):\n",
      "  File \"/opt/conda/envs/accel_env/bin/accProcess\", line 8, in <module>\n",
      "    sys.exit(main())\n",
      "  File \"/opt/conda/envs/accel_env/lib/python3.9/site-packages/accelerometer/accProcess.py\", line 304, in main\n",
      "    accelerometer.device.processInputFileToEpoch(\n",
      "  File \"/opt/conda/envs/accel_env/lib/python3.9/site-packages/accelerometer/device.py\", line 81, in processInputFileToEpoch\n",
      "    summary['file-size'] = os.path.getsize(inputFile)\n",
      "  File \"/opt/conda/envs/accel_env/lib/python3.9/genericpath.py\", line 50, in getsize\n",
      "    return os.stat(filename).st_size\n",
      "FileNotFoundError: [Errno 2] No such file or directory: '10/1000064_90001_0_0.cwa'\n"
     ]
    }
   ],
   "source": [
    "# Define binary path for accProcess\n",
    "acc_bin = os.path.join(os.path.dirname(sys.executable), \"accProcess\")\n",
    "\n",
    "# Download a sample CWA file\n",
    "#!dx download /Bulk/Activity/Raw/10/1000064_90001_0_0.cwa\n",
    "\n",
    "# Process the CWA file\n",
    "!{acc_bin} 10/1000064_90001_0_0.cwa --outputFolder accOut\n",
    "\n",
    "# Upload the results\n",
    "!dx upload accOut -r --destination Accelerometer_data/"
   ]
  },
  {
   "cell_type": "code",
   "execution_count": 36,
   "id": "a5583758-bc46-46ff-8a2b-3b26a9f8ad05",
   "metadata": {
    "tags": []
   },
   "outputs": [
    {
     "ename": "FileNotFoundError",
     "evalue": "[Errno 2] No such file or directory: 'DNAnexus:Accelerometer_data/accel_process.py'",
     "output_type": "error",
     "traceback": [
      "\u001b[0;31m---------------------------------------------------------------------------\u001b[0m",
      "\u001b[0;31mFileNotFoundError\u001b[0m                         Traceback (most recent call last)",
      "Cell \u001b[0;32mIn[36], line 7\u001b[0m\n\u001b[1;32m      1\u001b[0m code \u001b[38;5;241m=\u001b[39m \u001b[38;5;124m\"\"\"\u001b[39m\n\u001b[1;32m      2\u001b[0m \u001b[38;5;124mimport sys\u001b[39m\n\u001b[1;32m      3\u001b[0m \u001b[38;5;124mprint(\u001b[39m\u001b[38;5;124m\"\u001b[39m\u001b[38;5;124mThis will be saved in a file.\u001b[39m\u001b[38;5;124m\"\u001b[39m\u001b[38;5;124m)\u001b[39m\n\u001b[1;32m      4\u001b[0m \u001b[38;5;124mprint(\u001b[39m\u001b[38;5;124m\"\u001b[39m\u001b[38;5;124mPython version:\u001b[39m\u001b[38;5;124m\"\u001b[39m\u001b[38;5;124m, sys.version)\u001b[39m\n\u001b[1;32m      5\u001b[0m \u001b[38;5;124m\"\"\"\u001b[39m\n\u001b[0;32m----> 7\u001b[0m \u001b[38;5;28;01mwith\u001b[39;00m \u001b[38;5;28;43mopen\u001b[39;49m\u001b[43m(\u001b[49m\u001b[38;5;124;43m\"\u001b[39;49m\u001b[38;5;124;43mDNAnexus:Accelerometer_data/accel_process.py\u001b[39;49m\u001b[38;5;124;43m\"\u001b[39;49m\u001b[43m,\u001b[49m\u001b[43m \u001b[49m\u001b[38;5;124;43m\"\u001b[39;49m\u001b[38;5;124;43mw\u001b[39;49m\u001b[38;5;124;43m\"\u001b[39;49m\u001b[43m)\u001b[49m \u001b[38;5;28;01mas\u001b[39;00m f:\n\u001b[1;32m      8\u001b[0m     f\u001b[38;5;241m.\u001b[39mwrite(code)\n",
      "File \u001b[0;32m/opt/conda/envs/accel_env/lib/python3.9/site-packages/IPython/core/interactiveshell.py:286\u001b[0m, in \u001b[0;36m_modified_open\u001b[0;34m(file, *args, **kwargs)\u001b[0m\n\u001b[1;32m    279\u001b[0m \u001b[38;5;28;01mif\u001b[39;00m file \u001b[38;5;129;01min\u001b[39;00m {\u001b[38;5;241m0\u001b[39m, \u001b[38;5;241m1\u001b[39m, \u001b[38;5;241m2\u001b[39m}:\n\u001b[1;32m    280\u001b[0m     \u001b[38;5;28;01mraise\u001b[39;00m \u001b[38;5;167;01mValueError\u001b[39;00m(\n\u001b[1;32m    281\u001b[0m         \u001b[38;5;124mf\u001b[39m\u001b[38;5;124m\"\u001b[39m\u001b[38;5;124mIPython won\u001b[39m\u001b[38;5;124m'\u001b[39m\u001b[38;5;124mt let you open fd=\u001b[39m\u001b[38;5;132;01m{\u001b[39;00mfile\u001b[38;5;132;01m}\u001b[39;00m\u001b[38;5;124m by default \u001b[39m\u001b[38;5;124m\"\u001b[39m\n\u001b[1;32m    282\u001b[0m         \u001b[38;5;124m\"\u001b[39m\u001b[38;5;124mas it is likely to crash IPython. If you know what you are doing, \u001b[39m\u001b[38;5;124m\"\u001b[39m\n\u001b[1;32m    283\u001b[0m         \u001b[38;5;124m\"\u001b[39m\u001b[38;5;124myou can use builtins\u001b[39m\u001b[38;5;124m'\u001b[39m\u001b[38;5;124m open.\u001b[39m\u001b[38;5;124m\"\u001b[39m\n\u001b[1;32m    284\u001b[0m     )\n\u001b[0;32m--> 286\u001b[0m \u001b[38;5;28;01mreturn\u001b[39;00m \u001b[43mio_open\u001b[49m\u001b[43m(\u001b[49m\u001b[43mfile\u001b[49m\u001b[43m,\u001b[49m\u001b[43m \u001b[49m\u001b[38;5;241;43m*\u001b[39;49m\u001b[43margs\u001b[49m\u001b[43m,\u001b[49m\u001b[43m \u001b[49m\u001b[38;5;241;43m*\u001b[39;49m\u001b[38;5;241;43m*\u001b[39;49m\u001b[43mkwargs\u001b[49m\u001b[43m)\u001b[49m\n",
      "\u001b[0;31mFileNotFoundError\u001b[0m: [Errno 2] No such file or directory: 'DNAnexus:Accelerometer_data/accel_process.py'"
     ]
    }
   ],
   "source": []
  },
  {
   "cell_type": "code",
   "execution_count": null,
   "id": "566b51ce-d1ad-42df-bc8d-9716cf4aee0c",
   "metadata": {},
   "outputs": [],
   "source": []
  }
 ],
 "metadata": {
  "kernelspec": {
   "display_name": "Python (Accelerometer)",
   "language": "python",
   "name": "accel_env"
  },
  "language_info": {
   "codemirror_mode": {
    "name": "ipython",
    "version": 3
   },
   "file_extension": ".py",
   "mimetype": "text/x-python",
   "name": "python",
   "nbconvert_exporter": "python",
   "pygments_lexer": "ipython3",
   "version": "3.9.21"
  }
 },
 "nbformat": 4,
 "nbformat_minor": 5
}
