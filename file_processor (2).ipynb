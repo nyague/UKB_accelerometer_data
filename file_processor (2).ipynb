{
 "cells": [
  {
   "cell_type": "code",
   "execution_count": 1,
   "id": "1e5a71bf-20f5-490b-aec5-10040217c8dd",
   "metadata": {
    "tags": []
   },
   "outputs": [
    {
     "name": "stdout",
     "output_type": "stream",
     "text": [
      "/opt/conda/envs/accel_env/bin/python\n",
      "3.10.16 (main, Dec 11 2024, 16:24:50) [GCC 11.2.0]\n"
     ]
    }
   ],
   "source": [
    "import sys\n",
    "print(sys.executable)\n",
    "print(sys.version)"
   ]
  },
  {
   "cell_type": "code",
   "execution_count": 8,
   "id": "a3d2192d-bb59-4a2c-9ca7-a22551968185",
   "metadata": {
    "tags": []
   },
   "outputs": [],
   "source": [
    "#!python --version"
   ]
  },
  {
   "cell_type": "code",
   "execution_count": 4,
   "id": "bd309f0e-8fb7-49fb-9459-7e0ddae07ffe",
   "metadata": {
    "tags": []
   },
   "outputs": [],
   "source": [
    "import jdk\n",
    "from jdk.enums import OperatingSystem, Architecture"
   ]
  },
  {
   "cell_type": "code",
   "execution_count": 5,
   "id": "1bc33184-e6ee-42e4-802d-185af9143b64",
   "metadata": {
    "tags": []
   },
   "outputs": [
    {
     "data": {
      "text/plain": [
       "'/home/dnanexus/.jdk/jdk-11.0.26+4'"
      ]
     },
     "execution_count": 5,
     "metadata": {},
     "output_type": "execute_result"
    }
   ],
   "source": [
    "# Download and install the JDK\n",
    "jdk.install('11', jre=False) #operating_system=OperatingSystem.LINUX"
   ]
  },
  {
   "cell_type": "code",
   "execution_count": 11,
   "id": "4761c583-882d-49cd-ac79-b86f04a45bbc",
   "metadata": {
    "tags": []
   },
   "outputs": [],
   "source": [
    "import os\n",
    "# Set JAVA_HOME and PATH for this Python session\n",
    "jdk_version = 'jdk-11.0.26+4'\n",
    "os.environ['JAVA_HOME'] = f\"/home/dnanexus/.jdk/jdk-11.0.26+4\"\n",
    "os.environ['PATH'] += f\":{os.environ['JAVA_HOME']}/bin\""
   ]
  },
  {
   "cell_type": "code",
   "execution_count": 12,
   "id": "6d372703-c358-42dc-9a17-cb63d47813fe",
   "metadata": {
    "tags": []
   },
   "outputs": [
    {
     "name": "stdout",
     "output_type": "stream",
     "text": [
      "openjdk version \"11.0.26\" 2025-01-21\n",
      "OpenJDK Runtime Environment Temurin-11.0.26+4 (build 11.0.26+4)\n",
      "OpenJDK 64-Bit Server VM Temurin-11.0.26+4 (build 11.0.26+4, mixed mode)\n",
      "javac 11.0.26\n"
     ]
    }
   ],
   "source": [
    "!java -version\n",
    "!javac -version"
   ]
  },
  {
   "cell_type": "code",
   "execution_count": 13,
   "id": "a749ffdf-76c9-47e7-8b4e-fd80626defdf",
   "metadata": {
    "tags": []
   },
   "outputs": [
    {
     "name": "stdout",
     "output_type": "stream",
     "text": [
      "JAVA_HOME: /home/dnanexus/.jdk/jdk-11.0.26+4\n",
      "OS: linux\n",
      "ARCH: x64\n"
     ]
    }
   ],
   "source": [
    "# Confirm\n",
    "print(\"JAVA_HOME:\", os.environ['JAVA_HOME'])\n",
    "print(\"OS:\", jdk.OS)\n",
    "print(\"ARCH:\", jdk.ARCH)"
   ]
  },
  {
   "cell_type": "code",
   "execution_count": 14,
   "id": "36912a68-37ce-46e4-959c-40dfd5cc5929",
   "metadata": {
    "tags": []
   },
   "outputs": [
    {
     "name": "stdout",
     "output_type": "stream",
     "text": [
      "Download URL: https://api.adoptium.net/v3/binary/latest/11/ga/linux/x64/jre/hotspot/normal/eclipse\n"
     ]
    }
   ],
   "source": [
    "# Optional: print download URL\n",
    "download_url = jdk.get_download_url('11', jre=True)\n",
    "print(\"Download URL:\", download_url)"
   ]
  },
  {
   "cell_type": "code",
   "execution_count": 15,
   "id": "f6f1597d-eec4-453c-8ee2-4d7ad23e0735",
   "metadata": {
    "tags": []
   },
   "outputs": [
    {
     "name": "stdout",
     "output_type": "stream",
     "text": [
      "jaotc\t   javadoc   jdeprscan\tjinfo  jps\t   jstatd   rmiregistry\n",
      "jar\t   javap     jdeps\tjjs    jrunscript  keytool  serialver\n",
      "jarsigner  jcmd      jfr\tjlink  jshell\t   pack200  unpack200\n",
      "java\t   jconsole  jhsdb\tjmap   jstack\t   rmic\n",
      "javac\t   jdb\t     jimage\tjmod   jstat\t   rmid\n",
      "openjdk 11.0.26 2025-01-21\n",
      "OpenJDK Runtime Environment Temurin-11.0.26+4 (build 11.0.26+4)\n",
      "OpenJDK 64-Bit Server VM Temurin-11.0.26+4 (build 11.0.26+4, mixed mode)\n"
     ]
    }
   ],
   "source": [
    "!ls {os.environ['JAVA_HOME']}/bin\n",
    "!{os.environ['JAVA_HOME']}/bin/java --version"
   ]
  },
  {
   "cell_type": "code",
   "execution_count": 16,
   "id": "52397509-7533-459c-a72b-a9afd64af6b0",
   "metadata": {
    "tags": []
   },
   "outputs": [
    {
     "name": "stdout",
     "output_type": "stream",
     "text": [
      "Requirement already satisfied: accelerometer in /opt/conda/envs/accel_env/lib/python3.10/site-packages (7.2.1.post0+6.g462c2b6)\n",
      "Requirement already satisfied: numpy==1.21.* in /opt/conda/envs/accel_env/lib/python3.10/site-packages (from accelerometer) (1.21.6)\n",
      "Requirement already satisfied: scipy==1.7.* in /opt/conda/envs/accel_env/lib/python3.10/site-packages (from accelerometer) (1.7.3)\n",
      "Requirement already satisfied: matplotlib==3.5.* in /opt/conda/envs/accel_env/lib/python3.10/site-packages (from accelerometer) (3.5.3)\n",
      "Requirement already satisfied: pandas==1.3.* in /opt/conda/envs/accel_env/lib/python3.10/site-packages (from accelerometer) (1.3.5)\n",
      "Requirement already satisfied: tqdm==4.65.* in /opt/conda/envs/accel_env/lib/python3.10/site-packages (from accelerometer) (4.65.2)\n",
      "Requirement already satisfied: statsmodels==0.13.* in /opt/conda/envs/accel_env/lib/python3.10/site-packages (from accelerometer) (0.13.5)\n",
      "Requirement already satisfied: joblib==1.1.* in /opt/conda/envs/accel_env/lib/python3.10/site-packages (from accelerometer) (1.1.1)\n",
      "Requirement already satisfied: imbalanced-learn==0.8.1 in /opt/conda/envs/accel_env/lib/python3.10/site-packages (from accelerometer) (0.8.1)\n",
      "Requirement already satisfied: scikit-learn==1.0.2 in /opt/conda/envs/accel_env/lib/python3.10/site-packages (from accelerometer) (1.0.2)\n",
      "Requirement already satisfied: cycler>=0.10 in /opt/conda/envs/accel_env/lib/python3.10/site-packages (from matplotlib==3.5.*->accelerometer) (0.11.0)\n",
      "Requirement already satisfied: fonttools>=4.22.0 in /opt/conda/envs/accel_env/lib/python3.10/site-packages (from matplotlib==3.5.*->accelerometer) (4.55.3)\n",
      "Requirement already satisfied: kiwisolver>=1.0.1 in /opt/conda/envs/accel_env/lib/python3.10/site-packages (from matplotlib==3.5.*->accelerometer) (1.4.8)\n",
      "Requirement already satisfied: packaging>=20.0 in /opt/conda/envs/accel_env/lib/python3.10/site-packages (from matplotlib==3.5.*->accelerometer) (24.2)\n",
      "Requirement already satisfied: pillow>=6.2.0 in /opt/conda/envs/accel_env/lib/python3.10/site-packages (from matplotlib==3.5.*->accelerometer) (11.1.0)\n",
      "Requirement already satisfied: pyparsing>=2.2.1 in /opt/conda/envs/accel_env/lib/python3.10/site-packages (from matplotlib==3.5.*->accelerometer) (3.0.9)\n",
      "Requirement already satisfied: python-dateutil>=2.7 in /opt/conda/envs/accel_env/lib/python3.10/site-packages (from matplotlib==3.5.*->accelerometer) (2.9.0.post0)\n",
      "Requirement already satisfied: pytz>=2017.3 in /opt/conda/envs/accel_env/lib/python3.10/site-packages (from pandas==1.3.*->accelerometer) (2024.1)\n",
      "Requirement already satisfied: threadpoolctl>=2.0.0 in /opt/conda/envs/accel_env/lib/python3.10/site-packages (from scikit-learn==1.0.2->accelerometer) (3.5.0)\n",
      "Requirement already satisfied: patsy>=0.5.2 in /opt/conda/envs/accel_env/lib/python3.10/site-packages (from statsmodels==0.13.*->accelerometer) (1.0.1)\n",
      "Requirement already satisfied: six>=1.5 in /opt/conda/envs/accel_env/lib/python3.10/site-packages (from python-dateutil>=2.7->matplotlib==3.5.*->accelerometer) (1.16.0)\n",
      "\u001b[33mWARNING: Running pip as the 'root' user can result in broken permissions and conflicting behaviour with the system package manager, possibly rendering your system unusable. It is recommended to use a virtual environment instead: https://pip.pypa.io/warnings/venv. Use the --root-user-action option if you know what you are doing and want to suppress this warning.\u001b[0m\u001b[33m\n",
      "\u001b[0m"
     ]
    }
   ],
   "source": [
    "import sys\n",
    "!{sys.executable} -m pip install accelerometer"
   ]
  },
  {
   "cell_type": "code",
   "execution_count": 25,
   "id": "b06c63a4-a3cf-457d-a226-82298818a31e",
   "metadata": {
    "tags": []
   },
   "outputs": [],
   "source": [
    "!javac -cp \"/opt/conda/envs/accel_env/lib/python3.10/site-packages/accelerometer/java/JTransforms-3.1-with-dependencies.jar\" \\\n",
    "/opt/conda/envs/accel_env/lib/python3.10/site-packages/accelerometer/java/*.java"
   ]
  },
  {
   "cell_type": "code",
   "execution_count": 26,
   "id": "7390810a-a1c3-42ce-aa74-9828b2d46f8f",
   "metadata": {
    "tags": []
   },
   "outputs": [
    {
     "name": "stdout",
     "output_type": "stream",
     "text": [
      "/opt/conda/envs/accel_env/lib/python3.10/site-packages/accelerometer/java/AccStats.class\n",
      "/opt/conda/envs/accel_env/lib/python3.10/site-packages/accelerometer/java/AccelerometerParser.class\n",
      "/opt/conda/envs/accel_env/lib/python3.10/site-packages/accelerometer/java/ActigraphReader.class\n",
      "/opt/conda/envs/accel_env/lib/python3.10/site-packages/accelerometer/java/AxivityReader.class\n",
      "/opt/conda/envs/accel_env/lib/python3.10/site-packages/accelerometer/java/BandpassFilter.class\n",
      "/opt/conda/envs/accel_env/lib/python3.10/site-packages/accelerometer/java/CsvReader.class\n",
      "/opt/conda/envs/accel_env/lib/python3.10/site-packages/accelerometer/java/DeviceReader.class\n",
      "/opt/conda/envs/accel_env/lib/python3.10/site-packages/accelerometer/java/EpochWriter.class\n",
      "/opt/conda/envs/accel_env/lib/python3.10/site-packages/accelerometer/java/Features.class\n",
      "/opt/conda/envs/accel_env/lib/python3.10/site-packages/accelerometer/java/Filter.class\n",
      "/opt/conda/envs/accel_env/lib/python3.10/site-packages/accelerometer/java/GENEActivReader.class\n",
      "/opt/conda/envs/accel_env/lib/python3.10/site-packages/accelerometer/java/LowpassFilter.class\n",
      "/opt/conda/envs/accel_env/lib/python3.10/site-packages/accelerometer/java/NpyWriter.class\n",
      "/opt/conda/envs/accel_env/lib/python3.10/site-packages/accelerometer/java/Resample.class\n"
     ]
    }
   ],
   "source": [
    "!ls /opt/conda/envs/accel_env/lib/python3.10/site-packages/accelerometer/java/*.class"
   ]
  },
  {
   "cell_type": "code",
   "execution_count": 27,
   "id": "810e6ae5-dcf1-4398-8ad6-0d8a60b22d8d",
   "metadata": {
    "tags": []
   },
   "outputs": [
    {
     "name": "stdout",
     "output_type": "stream",
     "text": [
      "Processing file 'data/sample.cwa.gz' with these arguments:\n",
      "\n",
      "activityClassification    : True\n",
      "activityModel             : walmsley\n",
      "calOffset                 : [0.0, 0.0, 0.0]\n",
      "calSlope                  : [1.0, 1.0, 1.0]\n",
      "calTemp                   : [0.0, 0.0, 0.0]\n",
      "calibrationSphereCriteria : 0.3\n",
      "csvSampleRate             : None\n",
      "csvStartRow               : 1\n",
      "csvStartTime              : None\n",
      "csvTimeFormat             : yyyy-MM-dd HH:mm:ss.SSSxxxx '['VV']'\n",
      "csvTimeXYZTempColsIndex   : 0,1,2,3,4\n",
      "deleteIntermediateFiles   : True\n",
      "endTime                   : None\n",
      "epochFile                 : /opt/notebooks/data/sample-epoch.csv.gz\n",
      "epochPeriod               : 30\n",
      "extractFeatures           : True\n",
      "fourierFrequency          : False\n",
      "fourierWithAcc            : False\n",
      "inputFile                 : data/sample.cwa.gz\n",
      "intensityDistribution     : False\n",
      "m10l5                     : False\n",
      "meanTemp                  : None\n",
      "mgCpLPA                   : 45\n",
      "mgCpMPA                   : 100\n",
      "mgCpVPA                   : 400\n",
      "minNonWearDuration        : 60\n",
      "npyFile                   : /opt/notebooks/data/sample.npy\n",
      "npyOutput                 : False\n",
      "outputFolder              : /opt/notebooks/data\n",
      "processInputFile          : True\n",
      "psd                       : False\n",
      "rawDataParser             : AccelerometerParser\n",
      "rawFile                   : /opt/notebooks/data/sample.csv.gz\n",
      "rawOutput                 : False\n",
      "resampleMethod            : linear\n",
      "sampleRate                : 100\n",
      "skipCalibration           : False\n",
      "startTime                 : None\n",
      "stationaryFile            : /opt/notebooks/data/sample-stationaryPoints.csv.gz\n",
      "stationaryStd             : 13\n",
      "summaryFile               : /opt/notebooks/data/sample-summary.json\n",
      "timeShift                 : 0\n",
      "timeZone                  : Europe/London\n",
      "tsFile                    : /opt/notebooks/data/sample-timeSeries.csv.gz\n",
      "useFilter                 : True\n",
      "verbose                   : False\n",
      "Traceback (most recent call last):\n",
      "  File \"/opt/conda/envs/accel_env/bin/accProcess\", line 8, in <module>\n",
      "    sys.exit(main())\n",
      "  File \"/opt/conda/envs/accel_env/lib/python3.10/site-packages/accelerometer/accProcess.py\", line 304, in main\n",
      "    accelerometer.device.processInputFileToEpoch(\n",
      "  File \"/opt/conda/envs/accel_env/lib/python3.10/site-packages/accelerometer/device.py\", line 81, in processInputFileToEpoch\n",
      "    summary['file-size'] = os.path.getsize(inputFile)\n",
      "  File \"/opt/conda/envs/accel_env/lib/python3.10/genericpath.py\", line 50, in getsize\n",
      "    return os.stat(filename).st_size\n",
      "FileNotFoundError: [Errno 2] No such file or directory: 'data/sample.cwa.gz'\n",
      "Traceback (most recent call last):\n",
      "  File \"/opt/conda/envs/accel_env/bin/accPlot\", line 8, in <module>\n",
      "    sys.exit(main())\n",
      "  File \"/opt/conda/envs/accel_env/lib/python3.10/site-packages/accelerometer/accPlot.py\", line 77, in main\n",
      "    data = pd.read_csv(\n",
      "  File \"/opt/conda/envs/accel_env/lib/python3.10/site-packages/pandas/util/_decorators.py\", line 311, in wrapper\n",
      "    return func(*args, **kwargs)\n",
      "  File \"/opt/conda/envs/accel_env/lib/python3.10/site-packages/pandas/io/parsers/readers.py\", line 586, in read_csv\n",
      "    return _read(filepath_or_buffer, kwds)\n",
      "  File \"/opt/conda/envs/accel_env/lib/python3.10/site-packages/pandas/io/parsers/readers.py\", line 482, in _read\n",
      "    parser = TextFileReader(filepath_or_buffer, **kwds)\n",
      "  File \"/opt/conda/envs/accel_env/lib/python3.10/site-packages/pandas/io/parsers/readers.py\", line 811, in __init__\n",
      "    self._engine = self._make_engine(self.engine)\n",
      "  File \"/opt/conda/envs/accel_env/lib/python3.10/site-packages/pandas/io/parsers/readers.py\", line 1040, in _make_engine\n",
      "    return mapping[engine](self.f, **self.options)  # type: ignore[call-arg]\n",
      "  File \"/opt/conda/envs/accel_env/lib/python3.10/site-packages/pandas/io/parsers/c_parser_wrapper.py\", line 51, in __init__\n",
      "    self._open_handles(src, kwds)\n",
      "  File \"/opt/conda/envs/accel_env/lib/python3.10/site-packages/pandas/io/parsers/base_parser.py\", line 222, in _open_handles\n",
      "    self.handles = get_handle(\n",
      "  File \"/opt/conda/envs/accel_env/lib/python3.10/site-packages/pandas/io/common.py\", line 642, in get_handle\n",
      "    handle = gzip.GzipFile(\n",
      "  File \"/opt/conda/envs/accel_env/lib/python3.10/gzip.py\", line 174, in __init__\n",
      "    fileobj = self.myfileobj = builtins.open(filename, mode or 'rb')\n",
      "FileNotFoundError: [Errno 2] No such file or directory: 'data/sample-timeSeries.csv.gz'\n"
     ]
    }
   ],
   "source": [
    "import sys\n",
    "import os\n",
    "\n",
    "# Build the path to the correct tool\n",
    "acc_bin = os.path.join(os.path.dirname(sys.executable), \"accProcess\")\n",
    "plot_bin = os.path.join(os.path.dirname(sys.executable), \"accPlot\")\n",
    "\n",
    "# Run them safely\n",
    "!{acc_bin} data/sample.cwa.gz\n",
    "!{plot_bin} data/sample-timeSeries.csv.gz\n"
   ]
  },
  {
   "cell_type": "code",
   "execution_count": 34,
   "id": "afe33edb-1f31-4012-8956-dc4a8ef1042b",
   "metadata": {
    "tags": []
   },
   "outputs": [
    {
     "name": "stdout",
     "output_type": "stream",
     "text": [
      "\u001b[2K[===========================================================>] Completed 262,175,744 of 262,175,744 bytes (100%) data/1000196_90001_1_0.cwaa\n",
      "Processing file 'data/1000196_90001_1_0.cwa' with these arguments:\n",
      "\n",
      "activityClassification    : True\n",
      "activityModel             : walmsley\n",
      "calOffset                 : [0.0, 0.0, 0.0]\n",
      "calSlope                  : [1.0, 1.0, 1.0]\n",
      "calTemp                   : [0.0, 0.0, 0.0]\n",
      "calibrationSphereCriteria : 0.3\n",
      "csvSampleRate             : None\n",
      "csvStartRow               : 1\n",
      "csvStartTime              : None\n",
      "csvTimeFormat             : yyyy-MM-dd HH:mm:ss.SSSxxxx '['VV']'\n",
      "csvTimeXYZTempColsIndex   : 0,1,2,3,4\n",
      "deleteIntermediateFiles   : True\n",
      "endTime                   : None\n",
      "epochFile                 : accOut/1000196_90001_1_0-epoch.csv.gz\n",
      "epochPeriod               : 30\n",
      "extractFeatures           : True\n",
      "fourierFrequency          : False\n",
      "fourierWithAcc            : False\n",
      "inputFile                 : data/1000196_90001_1_0.cwa\n",
      "intensityDistribution     : False\n",
      "m10l5                     : False\n",
      "meanTemp                  : None\n",
      "mgCpLPA                   : 45\n",
      "mgCpMPA                   : 100\n",
      "mgCpVPA                   : 400\n",
      "minNonWearDuration        : 60\n",
      "npyFile                   : accOut/1000196_90001_1_0.npy\n",
      "npyOutput                 : False\n",
      "outputFolder              : accOut\n",
      "processInputFile          : True\n",
      "psd                       : False\n",
      "rawDataParser             : AccelerometerParser\n",
      "rawFile                   : accOut/1000196_90001_1_0.csv.gz\n",
      "rawOutput                 : False\n",
      "resampleMethod            : linear\n",
      "sampleRate                : 100\n",
      "skipCalibration           : False\n",
      "startTime                 : None\n",
      "stationaryFile            : accOut/1000196_90001_1_0-stationaryPoints.csv.gz\n",
      "stationaryStd             : 13\n",
      "summaryFile               : accOut/1000196_90001_1_0-summary.json\n",
      "timeShift                 : 0\n",
      "timeZone                  : Europe/London\n",
      "tsFile                    : accOut/1000196_90001_1_0-timeSeries.csv.gz\n",
      "useFilter                 : True\n",
      "verbose                   : False\n",
      "\n",
      "2025-03-31 23:27:18\t=== Calibrating ===\n",
      "Intermediate file: accOut/1000196_90001_1_0-stationaryPoints.csv.gz\n",
      "Device was programmed with delayed start time\n",
      "Session start: 2018-02-05T10:00Z[Europe/London]\n",
      "\n",
      "2025-03-31 23:27:52\t=== Extracting features ===\n",
      "Intermediate file: accOut/1000196_90001_1_0-epoch.csv.gz\n",
      "Device was programmed with delayed start time\n",
      "Session start: 2018-02-05T10:00Z[Europe/London]\n",
      "\n",
      "2025-03-31 23:29:31\t=== Summarizing ===\n",
      "422 rows with NaN or Inf values, out of 20159\n",
      "\n",
      "2025-03-31 23:29:53\t=== Short summary ===\n",
      "{\n",
      "    \"file-name\": \"data/1000196_90001_1_0.cwa\",\n",
      "    \"file-startTime\": \"2018-02-05 10:00:05.801000+0000 [Europe/London]\",\n",
      "    \"file-endTime\": \"2018-02-12 09:59:05.801000+0000 [Europe/London]\",\n",
      "    \"acc-overall-avg\": 22.85433986878661,\n",
      "    \"wearTime-overall(days)\": 6.853125,\n",
      "    \"nonWearTime-overall(days)\": 0.14652777777777778,\n",
      "    \"quality-goodWearTime\": 1\n",
      "}\n",
      "Full summary written to: accOut/1000196_90001_1_0-summary.json\n",
      "\n",
      "2025-03-31 23:29:53\tIn total, processing took 154.59347 seconds\n"
     ]
    }
   ],
   "source": [
    "# Define binary path for accProcess\n",
    "acc_bin = os.path.join(os.path.dirname(sys.executable), \"accProcess\")\n",
    "\n",
    "# Download a sample CWA file\n",
    "!mkdir -p data\n",
    "!dx download /Bulk/Activity/Raw/10/1000196_90001_1_0.cwa -o data/\n",
    "\n",
    "# Process the CWA file\n",
    "!{acc_bin} data/1000196_90001_1_0.cwa --outputFolder accOut\n",
    "\n",
    "# Upload the results\n",
    "#!dx upload accOut -r --destination Accelerometer_data/"
   ]
  },
  {
   "cell_type": "code",
   "execution_count": 33,
   "id": "88ac8af3-766b-4cd6-880c-dfe2bd37069a",
   "metadata": {
    "tags": []
   },
   "outputs": [
    {
     "name": "stdout",
     "output_type": "stream",
     "text": [
      "Found CWA files: ['1000064_90001_0_0.cwa', '1000122_90001_0_0.cwa', '1000150_90001_0_0.cwa', '1000163_90001_0_0.cwa', '1000174_90001_0_0.cwa', '1000196_90001_0_0.cwa', '1000196_90001_1_0.cwa', '1000196_90001_2_0.cwa', '1000196_90001_3_0.cwa', '1000196_90001_4_0.cwa', '1000210_90001_0_0.cwa', '1000337_90001_0_0.cwa', '1000399_90001_0_0.cwa', '1000424_90001_0_0.cwa', '1000485_90001_0_0.cwa', '1000543_90001_0_0.cwa', '1000555_90001_0_0.cwa', '1000615_90001_0_0.cwa', '1000656_90001_0_0.cwa', '1000677_90001_0_0.cwa']\n"
     ]
    }
   ],
   "source": [
    "import subprocess\n",
    "# List CWA files in the specified folder\n",
    "result = subprocess.run([\"dx\", \"ls\", \"/Bulk/Activity/Raw/10/\"], capture_output=True, text=True)\n",
    "\n",
    "# Extract file names ending in .cwa\n",
    "cwa_files_10 = [f.strip() for f in result.stdout.splitlines() if f.endswith(\".cwa\")]\n",
    "\n",
    "# Show the first few for verification\n",
    "print(\"Found CWA files:\", cwa_files_10[:20])"
   ]
  },
  {
   "cell_type": "code",
   "execution_count": null,
   "id": "566b51ce-d1ad-42df-bc8d-9716cf4aee0c",
   "metadata": {},
   "outputs": [],
   "source": [
    "# Make folders\n",
    "os.makedirs(\"cwa_input\", exist_ok=True)\n",
    "os.makedirs(\"accOut\", exist_ok=True)\n",
    "\n",
    "# Loop through and process each file\n",
    "for file in cwa_files_10:\n",
    "    file_path = f\"/Bulk/Activity/Raw/10/{file}\"\n",
    "    local_path = f\"cwa_input/{file}\"\n",
    "\n",
    "    print(f\"Downloading {file}...\")\n",
    "    subprocess.run([\"dx\", \"download\", file_path, \"-o\", local_path], check=True)\n",
    "\n",
    "    print(f\"Processing {file}...\")\n",
    "    subprocess.run([acc_bin, local_path, \"--outputFolder\", \"accOut\"], check=True)"
   ]
  }
 ],
 "metadata": {
  "kernelspec": {
   "display_name": "Python (Accelerometer)",
   "language": "python",
   "name": "accel_env"
  },
  "language_info": {
   "codemirror_mode": {
    "name": "ipython",
    "version": 3
   },
   "file_extension": ".py",
   "mimetype": "text/x-python",
   "name": "python",
   "nbconvert_exporter": "python",
   "pygments_lexer": "ipython3",
   "version": "3.10.16"
  }
 },
 "nbformat": 4,
 "nbformat_minor": 5
}
